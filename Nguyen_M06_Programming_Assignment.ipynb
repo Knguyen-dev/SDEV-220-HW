{
 "cells": [
  {
   "cell_type": "code",
   "execution_count": 4,
   "metadata": {},
   "outputs": [],
   "source": [
    "# 13.1 Write the current date as a string to the text file today.txt.\n",
    "from datetime import date\n",
    "\n",
    "today = date.today()\n",
    "today_string = today.strftime(\"%m-%d-%Y\")    \n",
    "\n",
    "with open(\"today.txt\", \"w\") as f:\n",
    "    f.write(today_string)"
   ]
  },
  {
   "cell_type": "code",
   "execution_count": 6,
   "metadata": {},
   "outputs": [
    {
     "name": "stdout",
     "output_type": "stream",
     "text": [
      "04-25-2023\n"
     ]
    }
   ],
   "source": [
    "# 13.2 Read the text file today.txt into the string today_string.\n",
    "with open(\"today.txt\", \"r\") as f:\n",
    "\ttoday_string = f.read()\n",
    "\tprint(today_string)"
   ]
  },
  {
   "cell_type": "code",
   "execution_count": 13,
   "metadata": {},
   "outputs": [
    {
     "name": "stdout",
     "output_type": "stream",
     "text": [
      "2023-04-25 00:00:00\n"
     ]
    }
   ],
   "source": [
    "# 13.3 Parse the date from today_string.\n",
    "from datetime import datetime\n",
    "dateFormat = \"%m-%d-%Y\"\n",
    "\n",
    "with open(\"today.txt\", \"r\") as f:\n",
    "\ttoday_string = f.read().strip()\n",
    "\ttoday_date = datetime.strptime(today_string, dateFormat)"
   ]
  },
  {
   "cell_type": "code",
   "execution_count": null,
   "metadata": {},
   "outputs": [],
   "source": [
    "# 15.1 Use multiprocessing to create three separate processes.\n",
    "# Make each one wait a random number of seconds between zero and one, print the current time, and then exit.\n",
    "from datetime import date\n",
    "import time\n",
    "import random\n",
    "import multiprocessing\n",
    "\n",
    "def printCurrentTime(sleepTime):\n",
    "\tprint(f\"Slept for {sleepTime} seconds\")\t\n",
    "\ttoday_date = date.today()\n",
    "\tprint(today_date)\n",
    "\n",
    "\t\n",
    "if __name__ == \"__main__\":\n",
    "\tprocesses = []\n",
    "\n",
    "\t# Create processes and start them\n",
    "\tfor x in range(3):\n",
    "\t\tseconds = random.random()\n",
    "\t\tp = multiprocessing.Process(target=printCurrentTime, args=(seconds,))\n",
    "\t\tp.start()\n",
    "\t\tprocesses.append(p)\n",
    "\n",
    "\t# Make program wait until all processes are done before moving on \n",
    "\tfor p in processes:\n",
    "\t\tp.join()"
   ]
  }
 ],
 "metadata": {
  "kernelspec": {
   "display_name": "base",
   "language": "python",
   "name": "python3"
  },
  "language_info": {
   "codemirror_mode": {
    "name": "ipython",
    "version": 3
   },
   "file_extension": ".py",
   "mimetype": "text/x-python",
   "name": "python",
   "nbconvert_exporter": "python",
   "pygments_lexer": "ipython3",
   "version": "3.9.13"
  },
  "orig_nbformat": 4
 },
 "nbformat": 4,
 "nbformat_minor": 2
}
