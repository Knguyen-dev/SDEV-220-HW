{
 "cells": [
  {
   "cell_type": "code",
   "execution_count": 2,
   "id": "55e2384b-0543-4d76-abe4-3bdd9961a3b6",
   "metadata": {},
   "outputs": [
    {
     "name": "stdout",
     "output_type": "stream",
     "text": [
      "86400\n",
      "24.0\n",
      "24\n"
     ]
    }
   ],
   "source": [
    "\n",
    "# 3.1: There are 3600 seconds in an hour\n",
    "# 3.2:\n",
    "seconds_per_hour = 60 * 60\n",
    "# 3.3: There are 86400 seconds in a day\n",
    "# 3.4:\n",
    "seconds_per_day = 24 * seconds_per_hour\n",
    "# 3.5:\n",
    "print(seconds_per_day / seconds_per_hour)\n",
    "# 3.6: Yes, it agrees with the previous floating point value since they both equal 24\n",
    "print(seconds_per_day // seconds_per_hour)"
   ]
  }
 ],
 "metadata": {
  "kernelspec": {
   "display_name": "anaconda-2022.05-py39",
   "language": "python",
   "name": "conda-env-anaconda-2022.05-py39-py"
  },
  "language_info": {
   "codemirror_mode": {
    "name": "ipython",
    "version": 3
   },
   "file_extension": ".py",
   "mimetype": "text/x-python",
   "name": "python",
   "nbconvert_exporter": "python",
   "pygments_lexer": "ipython3",
   "version": "3.9.12"
  }
 },
 "nbformat": 4,
 "nbformat_minor": 5
}
